{
 "cells": [
  {
   "cell_type": "markdown",
   "id": "1bd2369c",
   "metadata": {},
   "source": [
    "## BASIC PYTHON"
   ]
  },
  {
   "cell_type": "markdown",
   "id": "fa3048eb",
   "metadata": {},
   "source": [
    "### Exercise 1: Prime Numbers\n",
    "Write a Python program that checks whether a given number is prime or not. \n",
    "A prime number is a natural number greater than 1 that has no positive divisors other than 1 and itself."
   ]
  },
  {
   "cell_type": "code",
   "execution_count": 8,
   "id": "de7a87aa",
   "metadata": {},
   "outputs": [
    {
     "name": "stdout",
     "output_type": "stream",
     "text": [
      "PRIME NUMBER CHECKER\n",
      "Enter a number to check if it is prime: 1\n",
      "1 is not a prime number.\n"
     ]
    }
   ],
   "source": [
    "def is_prime(n):\n",
    "    #User defined function to check if a number is prime.\n",
    "    \n",
    "    if n <= 1:\n",
    "        return False\n",
    "    if n == 2:\n",
    "        return True\n",
    "    if n % 2 == 0:\n",
    "        return False\n",
    "    for i in range(3, int(n**0.5) + 1, 2):\n",
    "        if n % i == 0:\n",
    "            return False\n",
    "    return True\n",
    "\n",
    "# Input from the user\n",
    "print(\"PRIME NUMBER CHECKER\")\n",
    "\n",
    "num = int(input(\"Enter a number to check if it is prime: \"))\n",
    "\n",
    "# Check if the number is prime\n",
    "if is_prime(num):\n",
    "    print(f\"{num} is a prime number.\")\n",
    "else:\n",
    "    print(f\"{num} is not a prime number.\")\n"
   ]
  },
  {
   "cell_type": "markdown",
   "id": "e6cc77b7",
   "metadata": {},
   "source": [
    "### Exercise 2: Product of Random Numbers\n",
    "Develop a Python program that generates two random numbers and asks the user to enter the product of these numbers. The program should then check if the user's answer is correct and display an appropriate message.\n"
   ]
  },
  {
   "cell_type": "code",
   "execution_count": 2,
   "id": "2ed2bd14",
   "metadata": {},
   "outputs": [
    {
     "name": "stdout",
     "output_type": "stream",
     "text": [
      "What is the product of 3 and 5 ? : 15\n",
      "Wow! Correct Answer!!!\n"
     ]
    }
   ],
   "source": [
    "# To create two random numbers\n",
    "import random\n",
    "def random_num():\n",
    "    n1=random.randint(1,10)\n",
    "    n2=random.randint(1,10)\n",
    "    return n1, n2\n",
    "\n",
    "# User response and checking\n",
    "def product():\n",
    "    n1,n2=random_num()\n",
    "    \n",
    "    # To calculate the product\n",
    "    c_prod = n1*n2\n",
    "    \n",
    "    # For the user to enter the product value\n",
    "    u_prod = int(input(f'What is the product of {n1} and {n2} ? : '))\n",
    "    \n",
    "    # Check if the user answer is correct or not\n",
    "    if u_prod == c_prod:\n",
    "        print('Wow! Correct Answer!!!')\n",
    "    else:\n",
    "        print(f'Incorrect! The correct product is {c_prod}')\n",
    "\n",
    "if __name__ == \"__main__\":     # construct that ensures that the prodcut() is being executed\n",
    "    product()\n",
    "    "
   ]
  },
  {
   "cell_type": "markdown",
   "id": "ef9d69a7",
   "metadata": {},
   "source": [
    "### Exercise 3: Squares of Even/Odd Numbers\n",
    "Create a Python script that prints the squares of all even or odd numbers within the range of 100 to 200. Choose either even or odd numbers and document your choice in the code."
   ]
  },
  {
   "cell_type": "code",
   "execution_count": 6,
   "id": "96a94afe",
   "metadata": {},
   "outputs": [
    {
     "name": "stdout",
     "output_type": "stream",
     "text": [
      "SQUARE CALCULATOR\n",
      "Enter \"1\" for squares of even numbers and \"2\" for squares of odd numbers: 2\n",
      "Square of 101 is 10201\n",
      "Square of 103 is 10609\n",
      "Square of 105 is 11025\n",
      "Square of 107 is 11449\n",
      "Square of 109 is 11881\n",
      "Square of 111 is 12321\n",
      "Square of 113 is 12769\n",
      "Square of 115 is 13225\n",
      "Square of 117 is 13689\n",
      "Square of 119 is 14161\n",
      "Square of 121 is 14641\n",
      "Square of 123 is 15129\n",
      "Square of 125 is 15625\n",
      "Square of 127 is 16129\n",
      "Square of 129 is 16641\n",
      "Square of 131 is 17161\n",
      "Square of 133 is 17689\n",
      "Square of 135 is 18225\n",
      "Square of 137 is 18769\n",
      "Square of 139 is 19321\n",
      "Square of 141 is 19881\n",
      "Square of 143 is 20449\n",
      "Square of 145 is 21025\n",
      "Square of 147 is 21609\n",
      "Square of 149 is 22201\n",
      "Square of 151 is 22801\n",
      "Square of 153 is 23409\n",
      "Square of 155 is 24025\n",
      "Square of 157 is 24649\n",
      "Square of 159 is 25281\n",
      "Square of 161 is 25921\n",
      "Square of 163 is 26569\n",
      "Square of 165 is 27225\n",
      "Square of 167 is 27889\n",
      "Square of 169 is 28561\n",
      "Square of 171 is 29241\n",
      "Square of 173 is 29929\n",
      "Square of 175 is 30625\n",
      "Square of 177 is 31329\n",
      "Square of 179 is 32041\n",
      "Square of 181 is 32761\n",
      "Square of 183 is 33489\n",
      "Square of 185 is 34225\n",
      "Square of 187 is 34969\n",
      "Square of 189 is 35721\n",
      "Square of 191 is 36481\n",
      "Square of 193 is 37249\n",
      "Square of 195 is 38025\n",
      "Square of 197 is 38809\n",
      "Square of 199 is 39601\n"
     ]
    }
   ],
   "source": [
    "# Even square calculator\n",
    "def even_square():\n",
    "    for i in range(100, 200):\n",
    "        if i % 2 == 0:\n",
    "            print(f'Square of {i} is {i**2}')\n",
    "\n",
    "# Odd square calculator\n",
    "def odd_square():\n",
    "    for i in range(100, 200):\n",
    "        if i % 2 == 1:\n",
    "            print(f'Square of {i} is {i**2}')\n",
    "\n",
    "# Main program\n",
    "def square():\n",
    "    print('SQUARE CALCULATOR')\n",
    "    n = int(input('Enter \"1\" for squares of even numbers and \"2\" for squares of odd numbers: '))\n",
    "    \n",
    "    if n == 1:\n",
    "        even_square()  # Correct function name\n",
    "    elif n == 2:\n",
    "        odd_square()  # Correct function name\n",
    "    else:\n",
    "        print('Invalid Choice')\n",
    "\n",
    "# Ensure the main function runs when the script is executed directly\n",
    "if __name__ == \"__main__\":\n",
    "    square()\n"
   ]
  },
  {
   "cell_type": "markdown",
   "id": "b47d65e2",
   "metadata": {},
   "source": [
    "### Exercise 4: Word counter\n",
    "Write a program to count the number of words in a given text.\n",
    "example:\n",
    "input_text = \"This is a sample text. This text will be used to demonstrate the word counter.\"\n",
    "Expected output:\n",
    "'This': 2 \n",
    "'is': 1\n",
    "'a': 1\n",
    "'sample': 1\n",
    "'text.': 1"
   ]
  },
  {
   "cell_type": "code",
   "execution_count": 13,
   "id": "30518069",
   "metadata": {},
   "outputs": [
    {
     "name": "stdout",
     "output_type": "stream",
     "text": [
      "Enter the text: This is a sample text. This text will be used to demonstrate the word counter.\n",
      "'this': 2\n",
      "'is': 1\n",
      "'a': 1\n",
      "'sample': 1\n",
      "'text': 2\n",
      "'will': 1\n",
      "'be': 1\n",
      "'used': 1\n",
      "'to': 1\n",
      "'demonstrate': 1\n",
      "'the': 1\n",
      "'word': 1\n",
      "'counter': 1\n"
     ]
    }
   ],
   "source": [
    "# Word Counter\n",
    "\n",
    "def word_count(input_text):\n",
    "    text = input_text.split()  # Split the input text into words\n",
    "    count_word = {}            # Dictionary to store word count\n",
    "    \n",
    "    # Count each words\n",
    "    for word in text:\n",
    "        word = word.lower().strip(\".,!?:;\\\"'\") # Convert to lower case and strip punctuation\n",
    "        if word in count_word:\n",
    "            count_word[word] += 1\n",
    "        else:\n",
    "            count_word[word] = 1\n",
    "            \n",
    "    # Print the word counts\n",
    "    for word, count in count_word.items():\n",
    "        print(f\"'{word}': {count}\")\n",
    "\n",
    "# To input the text required\n",
    "input_text = input(\"Enter the text: \")\n",
    "\n",
    "# Calling the function\n",
    "word_count(input_text)\n"
   ]
  },
  {
   "cell_type": "markdown",
   "id": "4599bad6",
   "metadata": {},
   "source": [
    "### Exercise 5: Check for Palindrome\n",
    "Write a Python function called is_palindrome that takes a string as input and returns True if the string is a palindrome, and False otherwise. A palindrome is a word, phrase, number, or other sequence of characters that reads the same forward and backward, ignoring spaces, punctuation, and capitalization.\n",
    "Example:\n",
    "Input: \"racecar\"\n",
    "Expected Output: True\n"
   ]
  },
  {
   "cell_type": "code",
   "execution_count": 31,
   "id": "1a5fdc56",
   "metadata": {},
   "outputs": [
    {
     "name": "stdout",
     "output_type": "stream",
     "text": [
      "Enter the word: amm\n",
      "False\n"
     ]
    }
   ],
   "source": [
    "def is_palindrome(word):\n",
    "    word=word.lower()\n",
    "    l=len(word)\n",
    "    \n",
    "    if l<2:\n",
    "        return True\n",
    "    elif word[0] == word[l-1]:\n",
    "        return is_palindrome(word[1:l-1])\n",
    "    else:\n",
    "        return False\n",
    "\n",
    "# Main Part\n",
    "word = input('Enter the word: ')\n",
    "ans = is_palindrome(word)\n",
    "\n",
    "if ans:\n",
    "    print(ans)\n",
    "else:\n",
    "    print(ans)"
   ]
  },
  {
   "cell_type": "code",
   "execution_count": null,
   "id": "c80cfa7e",
   "metadata": {},
   "outputs": [],
   "source": []
  },
  {
   "cell_type": "code",
   "execution_count": null,
   "id": "a4faec3a",
   "metadata": {},
   "outputs": [],
   "source": []
  }
 ],
 "metadata": {
  "kernelspec": {
   "display_name": "Python 3 (ipykernel)",
   "language": "python",
   "name": "python3"
  },
  "language_info": {
   "codemirror_mode": {
    "name": "ipython",
    "version": 3
   },
   "file_extension": ".py",
   "mimetype": "text/x-python",
   "name": "python",
   "nbconvert_exporter": "python",
   "pygments_lexer": "ipython3",
   "version": "3.11.7"
  }
 },
 "nbformat": 4,
 "nbformat_minor": 5
}
