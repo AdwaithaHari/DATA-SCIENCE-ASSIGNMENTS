{
 "cells": [
  {
   "cell_type": "markdown",
   "id": "ad5417ec-fc4f-4996-82aa-10ddbb569707",
   "metadata": {},
   "source": [
    "### CONFIDENCE INTERVAL"
   ]
  },
  {
   "cell_type": "markdown",
   "id": "0ae047cd-fcbb-4287-a03e-705ea1e2703f",
   "metadata": {},
   "source": [
    "A total of 15 print-heads were randomly selected and tested until failure. The durability of each print-head (in millions of characters) was recorded as follows:\n",
    "\n",
    "1.13, 1.55, 1.43, 0.92, 1.25, 1.36, 1.32, 0.85, 1.07, 1.48, 1.20, 1.33, 1.18, 1.22, 1.29\n"
   ]
  },
  {
   "cell_type": "code",
   "execution_count": 1,
   "id": "7489d8e9-18d8-455f-b907-b208315675f7",
   "metadata": {},
   "outputs": [],
   "source": [
    "import pandas as pd\n",
    "import numpy as np\n",
    "from scipy import stats"
   ]
  },
  {
   "cell_type": "code",
   "execution_count": 2,
   "id": "1850e52a-2627-4e48-9264-b1c03edcac76",
   "metadata": {},
   "outputs": [
    {
     "data": {
      "text/plain": [
       "[1.13,\n",
       " 1.55,\n",
       " 1.43,\n",
       " 0.92,\n",
       " 1.25,\n",
       " 1.36,\n",
       " 1.32,\n",
       " 0.85,\n",
       " 1.07,\n",
       " 1.48,\n",
       " 1.2,\n",
       " 1.33,\n",
       " 1.18,\n",
       " 1.22,\n",
       " 1.29]"
      ]
     },
     "execution_count": 2,
     "metadata": {},
     "output_type": "execute_result"
    }
   ],
   "source": [
    "data = [1.13, 1.55, 1.43, 0.92, 1.25, 1.36, 1.32, 0.85, 1.07, 1.48, 1.20, 1.33, 1.18, 1.22, 1.29]\n",
    "data"
   ]
  },
  {
   "cell_type": "code",
   "execution_count": 3,
   "id": "de629586-cbcf-407c-bfd3-240edd3901a4",
   "metadata": {
    "scrolled": true
   },
   "outputs": [
    {
     "data": {
      "text/html": [
       "<div>\n",
       "<style scoped>\n",
       "    .dataframe tbody tr th:only-of-type {\n",
       "        vertical-align: middle;\n",
       "    }\n",
       "\n",
       "    .dataframe tbody tr th {\n",
       "        vertical-align: top;\n",
       "    }\n",
       "\n",
       "    .dataframe thead th {\n",
       "        text-align: right;\n",
       "    }\n",
       "</style>\n",
       "<table border=\"1\" class=\"dataframe\">\n",
       "  <thead>\n",
       "    <tr style=\"text-align: right;\">\n",
       "      <th></th>\n",
       "      <th>Values</th>\n",
       "    </tr>\n",
       "  </thead>\n",
       "  <tbody>\n",
       "    <tr>\n",
       "      <th>0</th>\n",
       "      <td>1.13</td>\n",
       "    </tr>\n",
       "    <tr>\n",
       "      <th>1</th>\n",
       "      <td>1.55</td>\n",
       "    </tr>\n",
       "    <tr>\n",
       "      <th>2</th>\n",
       "      <td>1.43</td>\n",
       "    </tr>\n",
       "    <tr>\n",
       "      <th>3</th>\n",
       "      <td>0.92</td>\n",
       "    </tr>\n",
       "    <tr>\n",
       "      <th>4</th>\n",
       "      <td>1.25</td>\n",
       "    </tr>\n",
       "    <tr>\n",
       "      <th>5</th>\n",
       "      <td>1.36</td>\n",
       "    </tr>\n",
       "    <tr>\n",
       "      <th>6</th>\n",
       "      <td>1.32</td>\n",
       "    </tr>\n",
       "    <tr>\n",
       "      <th>7</th>\n",
       "      <td>0.85</td>\n",
       "    </tr>\n",
       "    <tr>\n",
       "      <th>8</th>\n",
       "      <td>1.07</td>\n",
       "    </tr>\n",
       "    <tr>\n",
       "      <th>9</th>\n",
       "      <td>1.48</td>\n",
       "    </tr>\n",
       "    <tr>\n",
       "      <th>10</th>\n",
       "      <td>1.20</td>\n",
       "    </tr>\n",
       "    <tr>\n",
       "      <th>11</th>\n",
       "      <td>1.33</td>\n",
       "    </tr>\n",
       "    <tr>\n",
       "      <th>12</th>\n",
       "      <td>1.18</td>\n",
       "    </tr>\n",
       "    <tr>\n",
       "      <th>13</th>\n",
       "      <td>1.22</td>\n",
       "    </tr>\n",
       "    <tr>\n",
       "      <th>14</th>\n",
       "      <td>1.29</td>\n",
       "    </tr>\n",
       "  </tbody>\n",
       "</table>\n",
       "</div>"
      ],
      "text/plain": [
       "    Values\n",
       "0     1.13\n",
       "1     1.55\n",
       "2     1.43\n",
       "3     0.92\n",
       "4     1.25\n",
       "5     1.36\n",
       "6     1.32\n",
       "7     0.85\n",
       "8     1.07\n",
       "9     1.48\n",
       "10    1.20\n",
       "11    1.33\n",
       "12    1.18\n",
       "13    1.22\n",
       "14    1.29"
      ]
     },
     "execution_count": 3,
     "metadata": {},
     "output_type": "execute_result"
    }
   ],
   "source": [
    "data_df = pd.DataFrame(data, columns = ['Values'])\n",
    "data_df"
   ]
  },
  {
   "cell_type": "markdown",
   "id": "74442695-6630-44ac-af88-2a7dcd20455a",
   "metadata": {},
   "source": [
    "##### 99% Confidence Interval Using Sample Standard Deviation"
   ]
  },
  {
   "cell_type": "code",
   "execution_count": 20,
   "id": "46c700ac-c6c8-4d18-babd-ac2985fdcc9a",
   "metadata": {},
   "outputs": [
    {
     "name": "stdout",
     "output_type": "stream",
     "text": [
      "Sample Mean: 1.24 million characters\n",
      "Sample Standard Deviation: 0.19 million characters\n",
      "t-Critical Value: -0.01\n",
      "Margin of Error: -0.0\n",
      "99% Confidence Interval: (1.2393030255618902, 1.238030307771443) Million characters\n"
     ]
    }
   ],
   "source": [
    "# STEP 1: Calculate the sample mean, sample standard deviation and sample size (n)\n",
    "s_mean = data_df['Values'].mean()\n",
    "s_std = data_df['Values'].std()\n",
    "n = data_df.shape[0]\n",
    "\n",
    "# STEP 2: Calculate degrees of freedom\n",
    "dof = n-1\n",
    "\n",
    "# STEP 3: Calculate critical t-value\n",
    "confidence_level = 0.99\n",
    "alpha = 1 - confidence_level\n",
    "t_critical = stats.t.ppf((1-alpha)/2, dof)\n",
    "\n",
    "# STEP 4: Calculate Margin Of Error (MOE)\n",
    "MOE = t_critical * (s_std/np.sqrt(n))\n",
    "\n",
    "# STEP 5: Calculate Confidence Interval (CI)\n",
    "CI = (s_mean - MOE, s_mean + MOE)\n",
    "\n",
    "# STEP 6: Print results\n",
    "print(\"Sample Mean:\", round(s_mean, 2),\"million characters\")\n",
    "print(\"Sample Standard Deviation:\", round(s_std, 2),\"million characters\")\n",
    "print(\"t-Critical Value:\", round(t_critical, 2))\n",
    "print(\"Margin of Error:\", round(MOE, 2))\n",
    "print(f\"99% Confidence Interval: {CI} Million characters\")"
   ]
  },
  {
   "cell_type": "code",
   "execution_count": null,
   "id": "e4cfc1ef-a395-463c-9909-e93013697ac6",
   "metadata": {},
   "outputs": [],
   "source": []
  },
  {
   "cell_type": "markdown",
   "id": "f33c1c74-84c6-4534-81e0-f2d1e4cd78c8",
   "metadata": {},
   "source": [
    "##### 99% Confidence Interval Using Known Population Standard Deviation"
   ]
  },
  {
   "cell_type": "code",
   "execution_count": 22,
   "id": "ada540f0-fea2-428f-a60b-2167341fc6c0",
   "metadata": {},
   "outputs": [
    {
     "name": "stdout",
     "output_type": "stream",
     "text": [
      "Population Mean:  1.24 million characters\n",
      "Population Standard Deviation:  0.2 million characters\n",
      "z-Critical Value:  2.58\n",
      "99% Confidence Interval: (2.4429759320022626, 2.7090240679977375) million characters\n"
     ]
    }
   ],
   "source": [
    "# STEP 1: Calculate the Population mean and sample size\n",
    "p_mean = data_df['Values'].mean()\n",
    "n = data_df.shape[0]\n",
    "p_std = 0.2     # in million characters\n",
    "\n",
    "# STEP 2: Set the z-critical value for a 99% confidence level\n",
    "z_critical = 2.576\n",
    "\n",
    "# STEP 3: Calculate the margin of error (MOE)\n",
    "MOE = z_critical * (p_std/np.sqrt(n))\n",
    "\n",
    "# STEP 4: Calculate Confidence Interval (CI)\n",
    "CI = (z_critical - MOE, z_critical + MOE)\n",
    "\n",
    "# Print Output\n",
    "print(\"Population Mean: \", round(p_mean, 2),\"million characters\")\n",
    "print(\"Population Standard Deviation: \", round(p_std, 2),\"million characters\")\n",
    "print(\"z-Critical Value: \", round(z_critical, 2))\n",
    "print(\"99% Confidence Interval:\", CI, \"million characters\")"
   ]
  },
  {
   "cell_type": "code",
   "execution_count": null,
   "id": "1f32fd0f-7c99-4fbf-808d-924468842c8c",
   "metadata": {},
   "outputs": [],
   "source": []
  }
 ],
 "metadata": {
  "kernelspec": {
   "display_name": "Python 3 (ipykernel)",
   "language": "python",
   "name": "python3"
  },
  "language_info": {
   "codemirror_mode": {
    "name": "ipython",
    "version": 3
   },
   "file_extension": ".py",
   "mimetype": "text/x-python",
   "name": "python",
   "nbconvert_exporter": "python",
   "pygments_lexer": "ipython3",
   "version": "3.12.4"
  }
 },
 "nbformat": 4,
 "nbformat_minor": 5
}
